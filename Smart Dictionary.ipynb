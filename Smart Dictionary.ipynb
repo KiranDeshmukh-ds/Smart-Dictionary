{
 "cells": [
  {
   "cell_type": "code",
   "execution_count": 8,
   "metadata": {},
   "outputs": [
    {
     "name": "stdout",
     "output_type": "stream",
     "text": [
      "Enter a word :hairr\n",
      "Did you mean hair instead?, Press y for yes and n for no :n\n",
      "Did you mean hairy instead?, Press y for yes and n for no :n\n",
      "Did you mean chair instead?, Press y for yes and n for no :y\n",
      "An item of furniture comprising a seat, legs, back, and sometimes arm rests, on which or in which one people can sit.\n",
      "The presiding officer of a meeting, organization, committee, or other deliberative body.\n"
     ]
    }
   ],
   "source": [
    "import json\n",
    "from difflib import get_close_matches\n",
    "\n",
    "\n",
    "\n",
    "\n",
    "data = json.load(open(\"data.json\"))\n",
    "\n",
    "def translate(w):\n",
    "    w= w.lower()\n",
    "    if w in data :\n",
    "        return data[w]\n",
    "    elif len(get_close_matches(w,data.keys()))>0:\n",
    "       \n",
    "            x= input(\"Did you mean %s instead?, Press y for yes and n for no :\" %get_close_matches(w,data.keys())[0])\n",
    "        \n",
    "            if x == \"y\":\n",
    "                return data[get_close_matches(w,data.keys())[0]]\n",
    "            elif x ==\"n\":\n",
    "                o = input(\"Did you mean %s instead?, Press y for yes and n for no :\" %get_close_matches(w,data.keys())[1])\n",
    "                if o == \"y\":\n",
    "                    return data[get_close_matches(w,data.keys())[1]]\n",
    "                elif o ==\"n\":\n",
    "                    o2 = input(\"Did you mean %s instead?, Press y for yes and n for no :\" %get_close_matches(w,data.keys())[2])\n",
    "                    if o2 == \"y\":\n",
    "                        return data[get_close_matches(w,data.keys())[2]]\n",
    "                    elif o2 == \"n\":\n",
    "                        return \"It seems i failed u ,please use google\"\n",
    "                    else :\n",
    "                        return \" PLEASE TYPE y or n only !!\"\n",
    "                else :\n",
    "                    return \"PLEASE TYPE y or n only !! \"\n",
    "               \n",
    "            else:\n",
    "                return \" PLEASE TYPE y or n only !!\"\n",
    "                \n",
    "        \n",
    "    else:\n",
    "        return \"word doesnt exist\"\n",
    "        \n",
    "\n",
    "w = input(\"Enter a word :\")\n",
    "\n",
    "output = translate(w)\n",
    "if type (output) == list:\n",
    "    for items in output :\n",
    "        print(items)\n",
    "else:\n",
    "    print(output)\n",
    "    "
   ]
  },
  {
   "cell_type": "code",
   "execution_count": null,
   "metadata": {},
   "outputs": [],
   "source": []
  }
 ],
 "metadata": {
  "kernelspec": {
   "display_name": "Python 3",
   "language": "python",
   "name": "python3"
  },
  "language_info": {
   "codemirror_mode": {
    "name": "ipython",
    "version": 3
   },
   "file_extension": ".py",
   "mimetype": "text/x-python",
   "name": "python",
   "nbconvert_exporter": "python",
   "pygments_lexer": "ipython3",
   "version": "3.8.3"
  }
 },
 "nbformat": 4,
 "nbformat_minor": 4
}
